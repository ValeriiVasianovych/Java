{
 "cells": [
  {
   "cell_type": "markdown",
   "metadata": {},
   "source": [
    "## Klasy opisujące w Javie"
   ]
  },
  {
   "cell_type": "markdown",
   "metadata": {},
   "source": [
    "Boolean - klasa opakowująca dla typu boolean, zawiera metody do konwersji na inne typy danych oraz do operacji na bitach."
   ]
  },
  {
   "cell_type": "code",
   "execution_count": null,
   "metadata": {
    "vscode": {
     "languageId": "plaintext"
    }
   },
   "outputs": [],
   "source": [
    "Boolean boolObj = Boolean.valueOf(true);\n",
    "boolean boolValue = boolObj.booleanValue();\n",
    "System.out.println(\"Wartość logiczna: \" + boolValue);"
   ]
  },
  {
   "cell_type": "markdown",
   "metadata": {},
   "source": [
    "Character - klasa opakowująca dla typu char, zawiera metody do konwersji na inne typy danych oraz do operacji na znakach."
   ]
  },
  {
   "cell_type": "code",
   "execution_count": null,
   "metadata": {
    "vscode": {
     "languageId": "plaintext"
    }
   },
   "outputs": [],
   "source": [
    "Character charObj = Character.valueOf('A');\n",
    "char charValue = charObj.charValue();\n",
    "System.out.println(\"Znak: \" + charValue);"
   ]
  },
  {
   "cell_type": "markdown",
   "metadata": {},
   "source": [
    "Byte - klasa opakowująca dla typu byte, zawiera metody do konwersji na inne typy danych oraz do operacji na bitach."
   ]
  },
  {
   "cell_type": "code",
   "execution_count": null,
   "metadata": {
    "vscode": {
     "languageId": "plaintext"
    }
   },
   "outputs": [],
   "source": [
    "Byte byteObj = Byte.valueOf((byte) 10);\n",
    "byte byteValue = byteObj.byteValue();\n",
    "System.out.println(\"Wartość bajtowa: \" + byteValue);"
   ]
  },
  {
   "cell_type": "markdown",
   "metadata": {},
   "source": [
    "Short - klasa opakowująca dla typu short, służy do operacji na liczbach całkowitych."
   ]
  },
  {
   "cell_type": "code",
   "execution_count": null,
   "metadata": {
    "vscode": {
     "languageId": "plaintext"
    }
   },
   "outputs": [],
   "source": [
    "Short shortObj = Short.valueOf((short) 100);\n",
    "short shortValue = shortObj.shortValue();\n",
    "System.out.println(\"Wartość krótka: \" + shortValue);"
   ]
  },
  {
   "cell_type": "markdown",
   "metadata": {},
   "source": [
    "Integer - klasa opakowująca dla typu int, służy do operacji na liczbach całkowitych."
   ]
  },
  {
   "cell_type": "code",
   "execution_count": null,
   "metadata": {
    "vscode": {
     "languageId": "plaintext"
    }
   },
   "outputs": [],
   "source": [
    "Integer intObj = Integer.valueOf(1000);\n",
    "int intValue = intObj.intValue();\n",
    "System.out.println(\"Wartość całkowita: \" + intValue);"
   ]
  },
  {
   "cell_type": "markdown",
   "metadata": {},
   "source": [
    "Long - klasa opakowująca dla typu long, służy do operacji na liczbach całkowitych."
   ]
  },
  {
   "cell_type": "code",
   "execution_count": null,
   "metadata": {
    "vscode": {
     "languageId": "plaintext"
    }
   },
   "outputs": [],
   "source": [
    "Long longObj = Long.valueOf(100000L);\n",
    "long longValue = longObj.longValue();\n",
    "System.out.println(\"Wartość długa: \" + longValue);"
   ]
  },
  {
   "cell_type": "markdown",
   "metadata": {},
   "source": [
    "Float - klasa opakowująca dla typu float, służy do operacji na liczbach zmiennoprzecinkowych."
   ]
  },
  {
   "cell_type": "code",
   "execution_count": null,
   "metadata": {
    "vscode": {
     "languageId": "plaintext"
    }
   },
   "outputs": [],
   "source": [
    "Float floatObj = Float.valueOf(3.14f);\n",
    "float floatValue = floatObj.floatValue();\n",
    "System.out.println(\"Wartość zmiennoprzecinkowa: \" + floatValue);"
   ]
  },
  {
   "cell_type": "markdown",
   "metadata": {},
   "source": [
    "Double - klasa opakowująca dla typu double, służy do operacji na liczbach zmiennoprzecinkowych."
   ]
  },
  {
   "cell_type": "code",
   "execution_count": null,
   "metadata": {
    "vscode": {
     "languageId": "plaintext"
    }
   },
   "outputs": [],
   "source": [
    "Double doubleObj = Double.valueOf(3.14159);\n",
    "double doubleValue = doubleObj.doubleValue();\n",
    "System.out.println(\"Wartość zmiennoprzecinkowa podwójnej precyzji: \" + doubleValue);"
   ]
  }
 ],
 "metadata": {
  "language_info": {
   "name": "python"
  }
 },
 "nbformat": 4,
 "nbformat_minor": 2
}
